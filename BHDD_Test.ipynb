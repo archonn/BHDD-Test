{
 "cells": [
  {
   "cell_type": "markdown",
   "metadata": {
    "colab_type": "text",
    "id": "hsjwn8QT8aJ6"
   },
   "source": [
    "# Preprocessing Data"
   ]
  },
  {
   "cell_type": "code",
   "execution_count": 0,
   "metadata": {
    "colab": {},
    "colab_type": "code",
    "id": "7iqFh9qX1XlK"
   },
   "outputs": [],
   "source": [
    "import pickle\n",
    "import numpy as np\n",
    "\n",
    "dataset = []\n",
    "\n",
    "with open(\"data.pkl\", \"rb\") as file:\n",
    "    dataset = pickle.load(file)"
   ]
  },
  {
   "cell_type": "code",
   "execution_count": 41,
   "metadata": {
    "colab": {
     "base_uri": "https://localhost:8080/",
     "height": 34
    },
    "colab_type": "code",
    "id": "i0LmIr7O3Nl3",
    "outputId": "b7c2e9d7-eafa-4f50-b601-41b32c08b09c"
   },
   "outputs": [
    {
     "name": "stdout",
     "output_type": "stream",
     "text": [
      "TrainDataset : 60000 TestDataset : 27561\n"
     ]
    }
   ],
   "source": [
    "trainDataset = dataset[\"trainDataset\"]\n",
    "testDataset = dataset[\"testDataset\"]\n",
    "\n",
    "print(\"TrainDataset : {} TestDataset : {}\".format(len(trainDataset), len(testDataset)))"
   ]
  },
  {
   "cell_type": "code",
   "execution_count": 0,
   "metadata": {
    "colab": {},
    "colab_type": "code",
    "id": "2dyXyt2j4EO1"
   },
   "outputs": [],
   "source": [
    "numOfClass = 10\n",
    "\n",
    "trainX = [list(td[\"image\"].flatten() / 255) for td in trainDataset]\n",
    "trainY = np.eye(numOfClass)[np.array([td[\"label\"] for td in trainDataset]).reshape(-1).tolist()]\n",
    "\n",
    "testX = [list(td[\"image\"].flatten() / 255) for td in testDataset]\n",
    "testY = np.eye(numOfClass)[np.array([td[\"label\"] for td in testDataset]).reshape(-1).tolist()]"
   ]
  },
  {
   "cell_type": "code",
   "execution_count": 43,
   "metadata": {
    "colab": {
     "base_uri": "https://localhost:8080/",
     "height": 34
    },
    "colab_type": "code",
    "id": "UGGeQ-Zf4Nn0",
    "outputId": "12169dc5-3f72-41aa-b801-caf9d01414af"
   },
   "outputs": [
    {
     "name": "stdout",
     "output_type": "stream",
     "text": [
      "Populating the interactive namespace from numpy and matplotlib\n"
     ]
    }
   ],
   "source": [
    "import matplotlib.pyplot as plt\n",
    "%pylab inline"
   ]
  },
  {
   "cell_type": "code",
   "execution_count": 0,
   "metadata": {
    "colab": {},
    "colab_type": "code",
    "id": "ecmQz2nx4QGa"
   },
   "outputs": [],
   "source": [
    "def show_images(x, y, title_str):\n",
    "    for c in range(1, 10):\n",
    "        subplot(3, 3, c)\n",
    "        i = randint(len(x)) \n",
    "        im = np.reshape(x[i], (28,28))\n",
    "        axis(\"off\")\n",
    "        label = np.argmax(y[i]) \n",
    "        title(\"{} = {}\".format(title_str, label))\n",
    "        imshow(im, cmap='Greys')"
   ]
  },
  {
   "cell_type": "code",
   "execution_count": 45,
   "metadata": {
    "colab": {
     "base_uri": "https://localhost:8080/",
     "height": 280
    },
    "colab_type": "code",
    "id": "5P2AYa_G4SWQ",
    "outputId": "c003b1c5-318d-4f82-bafd-dcdc652797cf"
   },
   "outputs": [
    {
     "data": {
      "image/png": "[encoded data removed]",
      "text/plain": [
       "<Figure size 432x288 with 9 Axes>"
      ]
     },
     "metadata": {
      "tags": []
     },
     "output_type": "display_data"
    }
   ],
   "source": [
    "show_images(trainX, trainY, \"Label\")"
   ]
  },
  {
   "cell_type": "markdown",
   "metadata": {
    "colab_type": "text",
    "id": "G22LJOOp8jNW"
   },
   "source": [
    "# Import tensorflow and prepare for training"
   ]
  },
  {
   "cell_type": "code",
   "execution_count": 0,
   "metadata": {
    "colab": {},
    "colab_type": "code",
    "id": "Mw8C9X4t8nld"
   },
   "outputs": [],
   "source": [
    "import tensorflow as tf"
   ]
  },
  {
   "cell_type": "code",
   "execution_count": 0,
   "metadata": {
    "colab": {},
    "colab_type": "code",
    "id": "whlEWx428pRm"
   },
   "outputs": [],
   "source": [
    "n_train = np.array(trainX).shape[0]\n",
    "n_test = np.array(testX).shape[0]"
   ]
  },
  {
   "cell_type": "code",
   "execution_count": 0,
   "metadata": {
    "colab": {},
    "colab_type": "code",
    "id": "gC3EUTof-P8c"
   },
   "outputs": [],
   "source": [
    "n_input = 784\n",
    "n_hidden1 = 512\n",
    "n_hidden2 = 256\n",
    "n_hidden3 = 128\n",
    "n_output = 10"
   ]
  },
  {
   "cell_type": "code",
   "execution_count": 0,
   "metadata": {
    "colab": {},
    "colab_type": "code",
    "id": "iTj5SSQd-pFq"
   },
   "outputs": [],
   "source": [
    "learning_rate = 1e-4\n",
    "n_iterations = 1500\n",
    "dropout = 0.4"
   ]
  },
  {
   "cell_type": "markdown",
   "metadata": {
    "colab_type": "text",
    "id": "ipGFHYzr-0XH"
   },
   "source": [
    "## Preparing tensorflow graph"
   ]
  },
  {
   "cell_type": "code",
   "execution_count": 0,
   "metadata": {
    "colab": {},
    "colab_type": "code",
    "id": "Uj_oy8hP-2FD"
   },
   "outputs": [],
   "source": [
    "X = tf.placeholder(\"float\", [None, n_input])\n",
    "Y = tf.placeholder(\"float\", [None, n_output])\n",
    "keep_prob = tf.placeholder(tf.float32)"
   ]
  },
  {
   "cell_type": "code",
   "execution_count": 0,
   "metadata": {
    "colab": {},
    "colab_type": "code",
    "id": "d9nOpfoJ_Fis"
   },
   "outputs": [],
   "source": [
    "weights = {\n",
    "    \"w1\" : tf.Variable(tf.truncated_normal([n_input, n_hidden1], stddev = 0.1)),\n",
    "    \"w2\" : tf.Variable(tf.truncated_normal([n_hidden1, n_hidden2], stddev = 0.1)),\n",
    "    \"w3\" : tf.Variable(tf.truncated_normal([n_hidden2, n_hidden3], stddev = 0.1)),\n",
    "    \"out\" : tf.Variable(tf.truncated_normal([n_hidden3, n_output], stddev = 0.1))\n",
    "}"
   ]
  },
  {
   "cell_type": "code",
   "execution_count": 0,
   "metadata": {
    "colab": {},
    "colab_type": "code",
    "id": "_dEn1RivEaQQ"
   },
   "outputs": [],
   "source": [
    "biases = {\n",
    "    \"b1\" : tf.Variable(tf.constant(0.1, shape=[1, n_hidden1])),\n",
    "    \"b2\" : tf.Variable(tf.constant(0.1, shape=[1, n_hidden2])),\n",
    "    \"b3\" : tf.Variable(tf.constant(0.1, shape=[1, n_hidden3])),\n",
    "    \"out\" : tf.Variable(tf.constant(0.1, shape=[1, n_output])),\n",
    "}"
   ]
  },
  {
   "cell_type": "code",
   "execution_count": 0,
   "metadata": {
    "colab": {},
    "colab_type": "code",
    "id": "lFF_PJsvFLEd"
   },
   "outputs": [],
   "source": [
    "layer1 = tf.add(tf.matmul(X, weights[\"w1\"]), biases[\"b1\"])\n",
    "layer2 = tf.add(tf.matmul(layer1, weights[\"w2\"]), biases[\"b2\"])\n",
    "layer3 = tf.add(tf.matmul(layer2, weights[\"w3\"]), biases[\"b3\"])\n",
    "drop_layer = tf.nn.dropout(layer3, keep_prob)\n",
    "output_layer = tf.add(tf.matmul(layer3, weights[\"out\"]), biases[\"out\"])\n"
   ]
  },
  {
   "cell_type": "code",
   "execution_count": 0,
   "metadata": {
    "colab": {},
    "colab_type": "code",
    "id": "uwHjDjfdF6Br"
   },
   "outputs": [],
   "source": [
    "cross_entropy = tf.reduce_mean(tf.nn.softmax_cross_entropy_with_logits(labels=Y, logits=output_layer))\n",
    "train_step = tf.train.AdamOptimizer(1e-4).minimize(cross_entropy)"
   ]
  },
  {
   "cell_type": "code",
   "execution_count": 0,
   "metadata": {
    "colab": {},
    "colab_type": "code",
    "id": "_LEkhNJjMdfQ"
   },
   "outputs": [],
   "source": [
    "correct_pred = tf.equal(tf.argmax(output_layer, 1), tf.argmax(Y, 1))\n",
    "accuracy = tf.reduce_mean(tf.cast(correct_pred, tf.float32))"
   ]
  },
  {
   "cell_type": "markdown",
   "metadata": {
    "colab_type": "text",
    "id": "c0DiUCPCP7I0"
   },
   "source": [
    "## Training and testing"
   ]
  },
  {
   "cell_type": "code",
   "execution_count": 0,
   "metadata": {
    "colab": {},
    "colab_type": "code",
    "id": "9XWIuqEoGZKj"
   },
   "outputs": [],
   "source": [
    "init = tf.global_variables_initializer()\n",
    "sess = tf.Session()\n",
    "sess.run(init)"
   ]
  },
  {
   "cell_type": "code",
   "execution_count": 90,
   "metadata": {
    "colab": {
     "base_uri": "https://localhost:8080/",
     "height": 272
    },
    "colab_type": "code",
    "id": "iHRZn-SCL85F",
    "outputId": "e9101129-25e7-42e3-c7de-9bdcd6ac46d4"
   },
   "outputs": [
    {
     "name": "stdout",
     "output_type": "stream",
     "text": [
      "Iteration 0 \t| Loss = 3.0331852 \t| Accuracy = 0.08575\n",
      "Iteration 100 \t| Loss = 0.21588658 \t| Accuracy = 0.9524\n",
      "Iteration 200 \t| Loss = 0.1222357 \t| Accuracy = 0.97248334\n",
      "Iteration 300 \t| Loss = 0.09082245 \t| Accuracy = 0.97935\n",
      "Iteration 400 \t| Loss = 0.07503885 \t| Accuracy = 0.9826667\n",
      "Iteration 500 \t| Loss = 0.06530633 \t| Accuracy = 0.98485\n",
      "Iteration 600 \t| Loss = 0.058533628 \t| Accuracy = 0.9865\n",
      "Iteration 700 \t| Loss = 0.053416714 \t| Accuracy = 0.98751664\n",
      "Iteration 800 \t| Loss = 0.049325544 \t| Accuracy = 0.98863333\n",
      "Iteration 900 \t| Loss = 0.04591652 \t| Accuracy = 0.9895833\n",
      "Iteration 1000 \t| Loss = 0.04298343 \t| Accuracy = 0.9903\n",
      "Iteration 1100 \t| Loss = 0.040397927 \t| Accuracy = 0.991\n",
      "Iteration 1200 \t| Loss = 0.038076133 \t| Accuracy = 0.99185\n",
      "Iteration 1300 \t| Loss = 0.035958488 \t| Accuracy = 0.9923\n",
      "Iteration 1400 \t| Loss = 0.034004275 \t| Accuracy = 0.9928\n"
     ]
    }
   ],
   "source": [
    "for i in range(n_iterations):\n",
    "  sess.run(train_step, feed_dict={X: trainX, Y: trainY, keep_prob : dropout})\n",
    "  \n",
    "  if i%100==0:\n",
    "    train_loss, train_accuracy = sess.run([cross_entropy, accuracy], feed_dict={X: trainX, Y: trainY, keep_prob:1.0})\n",
    "    print(\"Iteration\", str(i), \"\\t| Loss =\", str(train_loss), \"\\t| Accuracy =\", str(train_accuracy))\n",
    "    "
   ]
  },
  {
   "cell_type": "code",
   "execution_count": 91,
   "metadata": {
    "colab": {
     "base_uri": "https://localhost:8080/",
     "height": 51
    },
    "colab_type": "code",
    "id": "aj-3SCSjM4Wi",
    "outputId": "82a392d2-1716-4e2d-e770-8e541d7db091"
   },
   "outputs": [
    {
     "name": "stdout",
     "output_type": "stream",
     "text": [
      "Accuracy on train set : 0.9928\n",
      "Accuracy on test set : 0.9844708\n"
     ]
    }
   ],
   "source": [
    "test_accuracy = sess.run(accuracy, feed_dict={X: testX, Y:testY, keep_prob:1.0})\n",
    "print(\"Accuracy on train set : \"+str(train_accuracy))\n",
    "print(\"Accuracy on test set : \"+str(test_accuracy))"
   ]
  },
  {
   "cell_type": "code",
   "execution_count": 0,
   "metadata": {
    "colab": {},
    "colab_type": "code",
    "id": "cC_gD9OEN_L-"
   },
   "outputs": [],
   "source": []
  }
 ],
 "metadata": {
  "accelerator": "GPU",
  "colab": {
   "name": "BHDD Test.ipynb",
   "provenance": [],
   "version": "0.3.2"
  },
  "kernelspec": {
   "display_name": "Python 3",
   "language": "python",
   "name": "python3"
  },
  "language_info": {
   "codemirror_mode": {
    "name": "ipython",
    "version": 3
   },
   "file_extension": ".py",
   "mimetype": "text/x-python",
   "name": "python",
   "nbconvert_exporter": "python",
   "pygments_lexer": "ipython3",
   "version": "3.6.7"
  }
 },
 "nbformat": 4,
 "nbformat_minor": 1
}
