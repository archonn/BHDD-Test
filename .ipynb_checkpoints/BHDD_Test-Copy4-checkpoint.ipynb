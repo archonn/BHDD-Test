{
 "cells": [
  {
   "cell_type": "code",
   "execution_count": 0,
   "metadata": {
    "colab": {},
    "colab_type": "code",
    "id": "lFF_PJsvFLEd"
   },
   "outputs": [],
   "source": [
    "Z1 = tf.add(tf.matmul(X, weights[\"w1\"]), biases[\"b1\"])\n",
    "A1 = tf.nn.relu(Z1)\n",
    "\n",
    "Z2 = tf.add(tf.matmul(A1, weights[\"w2\"]), biases[\"b2\"])\n",
    "A2 = tf.nn.relu(Z2)\n",
    "\n",
    "Z3 = tf.add(tf.matmul(A2, weights[\"w3\"]), biases[\"b3\"])\n",
    "A3 = tf.nn.relu(Z3)\n",
    "\n",
    "drop_layer = tf.nn.dropout(A3, keep_prob)\n",
    "output_layer = tf.add(tf.matmul(A3, weights[\"out\"]), biases[\"out\"])"
   ]
  }
 ],
 "metadata": {
  "accelerator": "GPU",
  "colab": {
   "name": "BHDD Test.ipynb",
   "provenance": [],
   "version": "0.3.2"
  },
  "kernelspec": {
   "display_name": "Python 3",
   "language": "python",
   "name": "python3"
  },
  "language_info": {
   "codemirror_mode": {
    "name": "ipython",
    "version": 3
   },
   "file_extension": ".py",
   "mimetype": "text/x-python",
   "name": "python",
   "nbconvert_exporter": "python",
   "pygments_lexer": "ipython3",
   "version": "3.6.7"
  }
 },
 "nbformat": 4,
 "nbformat_minor": 1
}
