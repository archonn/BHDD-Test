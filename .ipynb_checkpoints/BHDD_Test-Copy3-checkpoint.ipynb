{
 "cells": [
  {
   "cell_type": "markdown",
   "metadata": {
    "colab_type": "text",
    "id": "ipGFHYzr-0XH"
   },
   "source": [
    "## Preparing tensorflow graph"
   ]
  },
  {
   "cell_type": "code",
   "execution_count": 0,
   "metadata": {
    "colab": {},
    "colab_type": "code",
    "id": "Uj_oy8hP-2FD"
   },
   "outputs": [],
   "source": [
    "X = tf.placeholder(\"float\", [None, n_input])\n",
    "Y = tf.placeholder(\"float\", [None, n_output])\n",
    "keep_prob = tf.placeholder(tf.float32)"
   ]
  },
  {
   "cell_type": "code",
   "execution_count": 0,
   "metadata": {
    "colab": {},
    "colab_type": "code",
    "id": "d9nOpfoJ_Fis"
   },
   "outputs": [],
   "source": [
    "weights = {\n",
    "    \"w1\" : tf.Variable(tf.truncated_normal([n_input, n_hidden1], stddev = 0.1)),\n",
    "    \"w2\" : tf.Variable(tf.truncated_normal([n_hidden1, n_hidden2], stddev = 0.1)),\n",
    "    \"w3\" : tf.Variable(tf.truncated_normal([n_hidden2, n_hidden3], stddev = 0.1)),\n",
    "    \"out\" : tf.Variable(tf.truncated_normal([n_hidden3, n_output], stddev = 0.1))\n",
    "}"
   ]
  },
  {
   "cell_type": "code",
   "execution_count": 0,
   "metadata": {
    "colab": {},
    "colab_type": "code",
    "id": "_dEn1RivEaQQ"
   },
   "outputs": [],
   "source": [
    "biases = {\n",
    "    \"b1\" : tf.Variable(tf.constant(0.1, shape=[1, n_hidden1])),\n",
    "    \"b2\" : tf.Variable(tf.constant(0.1, shape=[1, n_hidden2])),\n",
    "    \"b3\" : tf.Variable(tf.constant(0.1, shape=[1, n_hidden3])),\n",
    "    \"out\" : tf.Variable(tf.constant(0.1, shape=[1, n_output])),\n",
    "}"
   ]
  }
 ],
 "metadata": {
  "accelerator": "GPU",
  "colab": {
   "name": "BHDD Test.ipynb",
   "provenance": [],
   "version": "0.3.2"
  },
  "kernelspec": {
   "display_name": "Python 3",
   "language": "python",
   "name": "python3"
  },
  "language_info": {
   "codemirror_mode": {
    "name": "ipython",
    "version": 3
   },
   "file_extension": ".py",
   "mimetype": "text/x-python",
   "name": "python",
   "nbconvert_exporter": "python",
   "pygments_lexer": "ipython3",
   "version": "3.6.7"
  }
 },
 "nbformat": 4,
 "nbformat_minor": 1
}
